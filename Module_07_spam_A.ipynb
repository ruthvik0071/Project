{
 "cells": [
  {
   "cell_type": "code",
   "execution_count": 1,
   "metadata": {},
   "outputs": [],
   "source": [
    "# Core Packages\n",
    "from tkinter import *\n",
    "from tkinter import ttk\n",
    "from tkinter.scrolledtext import *\n",
    "import tkinter.filedialog"
   ]
  },
  {
   "cell_type": "code",
   "execution_count": 2,
   "metadata": {},
   "outputs": [],
   "source": [
    "# # Spam Filter In Python3 and Python4\n",
    "from nltk.tokenize import word_tokenize\n",
    "from nltk.corpus import stopwords\n",
    "from nltk.stem import PorterStemmer\n",
    "import matplotlib.pyplot as plt \n",
    "from wordcloud import WordCloud \n",
    "from math import log,sqrt\n",
    "import pandas as pd\n",
    "import numpy as np \n",
    "import tkinter\n",
    "from tkinter import messagebox"
   ]
  },
  {
   "cell_type": "code",
   "execution_count": 3,
   "metadata": {},
   "outputs": [],
   "source": [
    "# # loading the dataset in the mails\n",
    "mails=pd.read_csv('spam.csv',encoding='latin-1')"
   ]
  },
  {
   "cell_type": "code",
   "execution_count": 4,
   "metadata": {},
   "outputs": [],
   "source": [
    "mails.drop(['Unnamed: 2','Unnamed: 3','Unnamed: 4'],axis=1,inplace=True)"
   ]
  },
  {
   "cell_type": "code",
   "execution_count": 5,
   "metadata": {},
   "outputs": [],
   "source": [
    "mails.rename(columns={'v1':'labels','v2':'text'},inplace=True)"
   ]
  },
  {
   "cell_type": "code",
   "execution_count": 6,
   "metadata": {},
   "outputs": [],
   "source": [
    "mails['label']=mails['labels'].map({'ham':0,'spam':1})"
   ]
  },
  {
   "cell_type": "code",
   "execution_count": 7,
   "metadata": {},
   "outputs": [],
   "source": [
    "mails.drop(['labels'],axis=1,inplace=True)"
   ]
  },
  {
   "cell_type": "code",
   "execution_count": 8,
   "metadata": {},
   "outputs": [],
   "source": [
    "totalMails=4825+747\n",
    "trainIndex,testIndex=list(),list()\n",
    "for i in range(mails.shape[0]):\n",
    "    if np.random.uniform(0,1)<0.75:\n",
    "        trainIndex+=[i]\n",
    "    \n",
    "    else:\n",
    "        testIndex+=[i]"
   ]
  },
  {
   "cell_type": "code",
   "execution_count": 9,
   "metadata": {},
   "outputs": [],
   "source": [
    "trainData=mails.loc[trainIndex]\n",
    "testData=mails.loc[testIndex]\n",
    "trainData.reset_index(inplace=True)\n",
    "trainData.drop(['index'],axis=1,inplace=True)"
   ]
  },
  {
   "cell_type": "code",
   "execution_count": 10,
   "metadata": {},
   "outputs": [],
   "source": [
    "testData.reset_index(inplace=True)\n",
    "testData.drop('index',axis=1,inplace=True)"
   ]
  },
  {
   "cell_type": "code",
   "execution_count": 11,
   "metadata": {},
   "outputs": [],
   "source": [
    "def output():\n",
    "    spam_words=''.join(list(mails[mails['label']==1]['text']))\n",
    "    spam_wc=WordCloud(width=512,height=512).generate(spam_words)\n",
    "    #doing the same thing for the ham words too\n",
    "    ham_words=''.join(list(mails[mails['label']==0]['text']))\n",
    "    ham_wc=WordCloud(width=512,height=512).generate(ham_words)\n",
    "    \n",
    "    def process_message(text, lower_case = True, stem = True, stop_words = True, gram = 2):\n",
    "        if lower_case:\n",
    "            text = text.lower()\n",
    "        words = word_tokenize(text)\n",
    "        words = [w for w in words if len(w) > 2]\n",
    "        if gram > 1:\n",
    "            w = []\n",
    "            for i in range(len(words) - gram + 1):\n",
    "                w += [' '.join(words[i:i + gram])]\n",
    "            return w\n",
    "        if stop_words:\n",
    "            sw = stopwords.words('english')\n",
    "            words = [word for word in words if word not in sw]\n",
    "        if stem:\n",
    "            stemmer = PorterStemmer()\n",
    "            words = [stemmer.stem(word) for word in words]   \n",
    "        return words\n",
    "    \n",
    "    \n",
    "    class SpamClassifier(object):\n",
    "        def __init__(self, trainData, method = 'tf-idf'):\n",
    "            self.mails, self.labels = trainData['text'], trainData['label']\n",
    "            self.method = method\n",
    "\n",
    "        def train(self):\n",
    "            self.calc_TF_and_IDF()\n",
    "            if self.method == 'tf-idf':\n",
    "                self.calc_TF_IDF()\n",
    "            else:\n",
    "                self.calc_prob()\n",
    "\n",
    "        def calc_prob(self):\n",
    "            self.prob_spam =dict()\n",
    "            self.prob_ham = dict()\n",
    "            for word in self.tf_spam:\n",
    "                self.prob_spam[word] = (self.tf_spam[word] + 1) / (self.spam_words +len(list(self.tf_spam.keys())))\n",
    "            for word in self.tf_ham:\n",
    "                self.prob_ham[word] = (self.tf_ham[word] + 1) / (self.ham_words + len(list(self.tf_ham.keys())))\n",
    "            self.prob_spam_mail, self.prob_ham_mail = self.spam_mails / self.total_mails, self.ham_mails / self.total_mails \n",
    "\n",
    "\n",
    "        def calc_TF_and_IDF(self):\n",
    "            noOfMessages = self.mails.shape[0]\n",
    "            self.spam_mails, self.ham_mails = self.labels.value_counts()[1], self.labels.value_counts()[0]\n",
    "            self.total_mails = self.spam_mails + self.ham_mails\n",
    "            self.spam_words = 0\n",
    "            self.ham_words = 0\n",
    "            self.tf_spam = dict()\n",
    "            self.tf_ham = dict()\n",
    "            self.idf_spam = dict()\n",
    "            self.idf_ham = dict()\n",
    "            for i in range(noOfMessages):\n",
    "                message_processed = process_message(self.mails[i])\n",
    "                count = list() #To keep track of whether the word has ocured in the message or not.\n",
    "                           #For IDF\n",
    "                for word in message_processed:\n",
    "                    if self.labels[i]:\n",
    "                        self.tf_spam[word] = self.tf_spam.get(word, 0) + 1\n",
    "                        self.spam_words += 1\n",
    "                    else:\n",
    "                        self.tf_ham[word] = self.tf_ham.get(word, 0) + 1\n",
    "                        self.ham_words += 1\n",
    "                    if word not in count:\n",
    "                        count += [word]\n",
    "                for word in count:\n",
    "                    if self.labels[i]:\n",
    "                        self.idf_spam[word] = self.idf_spam.get(word, 0) + 1\n",
    "                    else:\n",
    "                        self.idf_ham[word] = self.idf_ham.get(word, 0) + 1\n",
    "\n",
    "        def calc_TF_IDF(self):\n",
    "            self.prob_spam = dict()\n",
    "            self.prob_ham = dict()\n",
    "            self.sum_tf_idf_spam = 0\n",
    "            self.sum_tf_idf_ham = 0\n",
    "            for word in self.tf_spam:\n",
    "                self.prob_spam[word] = (self.tf_spam[word]) * log((self.spam_mails + self.ham_mails) \\\n",
    "                                                          / (self.idf_spam[word] + self.idf_ham.get(word, 0)))\n",
    "                self.sum_tf_idf_spam += self.prob_spam[word]\n",
    "            for word in self.tf_spam:\n",
    "                self.prob_spam[word] = (self.prob_spam[word] + 1) / (self.sum_tf_idf_spam + len(list(self.prob_spam.keys())))\n",
    "            \n",
    "            for word in self.tf_ham:\n",
    "                self.prob_ham[word] = (self.tf_ham[word]) * log((self.spam_mails + self.ham_mails) \\\n",
    "                                                          / (self.idf_spam.get(word, 0) + self.idf_ham[word]))\n",
    "                self.sum_tf_idf_ham += self.prob_ham[word]\n",
    "            for word in self.tf_ham:\n",
    "                self.prob_ham[word] = (self.prob_ham[word] + 1) / (self.sum_tf_idf_ham + len(list(self.prob_ham.keys())))\n",
    "            \n",
    "    \n",
    "            self.prob_spam_mail, self.prob_ham_mail = self.spam_mails / self.total_mails, self.ham_mails / self.total_mails \n",
    "                    \n",
    "        def classify(self, processed_message):\n",
    "            pSpam, pHam = 0, 0\n",
    "            for word in processed_message:                \n",
    "                if word in self.prob_spam:\n",
    "                    pSpam += log(self.prob_spam[word])\n",
    "                else:\n",
    "                    if self.method == 'tf-idf':\n",
    "                        pSpam -= log(self.sum_tf_idf_spam + len(list(self.prob_spam.keys())))\n",
    "                    else:\n",
    "                        pSpam -= log(self.spam_words + len(list(self.prob_spam.keys())))\n",
    "                if word in self.prob_ham:\n",
    "                    pHam += log(self.prob_ham[word])\n",
    "                else:\n",
    "                    if self.method == 'tf-idf':\n",
    "                        pHam -= log(self.sum_tf_idf_ham + len(list(self.prob_ham.keys()))) \n",
    "                    else:\n",
    "                        pHam -= log(self.ham_words + len(list(self.prob_ham.keys())))\n",
    "                pSpam += log(self.prob_spam_mail)\n",
    "                pHam += log(self.prob_ham_mail)\n",
    "            return pSpam >= pHam\n",
    "    \n",
    "        def predict(self, testData):\n",
    "            result = dict()\n",
    "            for (i, message) in enumerate(testData):\n",
    "                processed_message = process_message(message)\n",
    "                result[i] = int(self.classify(processed_message))\n",
    "            return result\n",
    "    \n",
    "    sc_tf_idf=SpamClassifier(trainData,'tf-idf')\n",
    "    sc_tf_idf.train()\n",
    "    preds_tf_idf=sc_tf_idf.predict(testData['text'])\n",
    "    \n",
    "    raw_text = str(entry.get('1.0',tkinter.END))\n",
    "    pm=process_message(raw_text)\n",
    "    def alldonewithflyingcolors(pm,raw_text):\n",
    "        raw_text = str(entry.get('1.0',tkinter.END))\n",
    "        pm=process_message(raw_text)\n",
    "        if sc_tf_idf.classify(pm)==True:\n",
    "            final_text=\"It is SPAM EMAIL\"\n",
    "            result = '\\nChecking Details:{}'.format(final_text)\n",
    "            tab1_display.insert(tkinter.END,result)         \n",
    "        else:\n",
    "            final_text2=\"It is GOOD EMAIL (Not SPAM / HAM)\"\n",
    "            result2 = '\\nChecking Details:{}'.format(final_text2)\n",
    "            tab1_display.insert(tkinter.END,result2)\n",
    "    alldonewithflyingcolors(pm,raw_text)"
   ]
  },
  {
   "cell_type": "code",
   "execution_count": 12,
   "metadata": {},
   "outputs": [],
   "source": [
    "#sc_bow=SpamClassifier(trainData,'bow')\n",
    "#sc_bow.train()\n",
    "#preds_bow=sc_bow.predict(testData['text'])"
   ]
  },
  {
   "cell_type": "code",
   "execution_count": 13,
   "metadata": {},
   "outputs": [],
   "source": [
    "# Clear entry widget\n",
    "def clear_text():\n",
    "\tentry.delete('1.0',END)\n",
    "\ttab1_display.delete('1.0',END)\n",
    "\n",
    "def clear_display_result():\n",
    "\ttab1_display.delete('1.0',END)\n"
   ]
  },
  {
   "cell_type": "code",
   "execution_count": 14,
   "metadata": {},
   "outputs": [
    {
     "data": {
      "text/plain": [
       "''"
      ]
     },
     "execution_count": 14,
     "metadata": {},
     "output_type": "execute_result"
    }
   ],
   "source": [
    "root1 = Tk()\n",
    "root1.title(\"SPAM Prediction\")\n",
    "#root.configure(background='pink')"
   ]
  },
  {
   "cell_type": "code",
   "execution_count": 15,
   "metadata": {},
   "outputs": [
    {
     "data": {
      "text/plain": [
       "1"
      ]
     },
     "execution_count": 15,
     "metadata": {},
     "output_type": "execute_result"
    }
   ],
   "source": [
    "#root = Tk()\n",
    "#root.title(\"SPAM Prediction\")\n",
    "root = Canvas(root1,width=1800,height=1800)\n",
    "root.pack()\n",
    "photo = PhotoImage(file ='img1.png')\n",
    "root.create_image(10,10,image=photo,anchor=NW)"
   ]
  },
  {
   "cell_type": "code",
   "execution_count": 16,
   "metadata": {},
   "outputs": [],
   "source": [
    "# Heading\n",
    "w2 = Label(root, justify=CENTER, text=\"SPAM prediction using machine learning\",fg=\"white\", bg=\"black\")\n",
    "w2.config(font=(\"Elephant\", 16))\n",
    "w2.grid(row=1, column=0, columnspan=5, padx=15)"
   ]
  },
  {
   "cell_type": "code",
   "execution_count": 17,
   "metadata": {},
   "outputs": [],
   "source": [
    "# MAIN NLP TAB\n",
    "l1=Label(root,text=\"Enter Message:\",fg=\"yellow\", bg=\"black\")\n",
    "l1.grid(row=3,column=0,pady=15, sticky=W)"
   ]
  },
  {
   "cell_type": "code",
   "execution_count": 18,
   "metadata": {},
   "outputs": [],
   "source": [
    "\n",
    "entry=Text(root,height=10, width = 100, bg=\"black\",fg=\"white\")\n",
    "entry.grid(row=5,column=0,columnspan=9,padx=15,pady=15)"
   ]
  },
  {
   "cell_type": "code",
   "execution_count": 19,
   "metadata": {},
   "outputs": [],
   "source": [
    "# Functions \n",
    "def get_summary():\n",
    "    output()\n"
   ]
  },
  {
   "cell_type": "code",
   "execution_count": 20,
   "metadata": {},
   "outputs": [],
   "source": [
    "# BUTTONS\n",
    "button1=Button(root,text=\"Reset\",command=clear_text, width=12,bg=\"red\",fg=\"black\")\n",
    "button1.grid(row=13,column=1,padx=10,pady=10)\n",
    "\n",
    "button2=Button(root,text=\"Check it!\",command=get_summary, width=18,bg=\"white\",fg=\"black\")\n",
    "button2.grid(row=13,column=0,padx=10,pady=10)\n",
    "\n",
    "button3=Button(root,text=\"Clear Result\", command=clear_display_result,width=12,bg=\"cyan\",fg=\"black\")\n",
    "button3.grid(row=13,column=2,padx=10,pady=10)"
   ]
  },
  {
   "cell_type": "code",
   "execution_count": 21,
   "metadata": {},
   "outputs": [],
   "source": [
    "# Display Screen For Result\n",
    "tab1_display = Text(root, height=2, width = 60, bg=\"black\",fg=\"orange\")\n",
    "tab1_display.grid(row=15,column=0, columnspan=2,padx=15,pady=15)"
   ]
  },
  {
   "cell_type": "code",
   "execution_count": 22,
   "metadata": {},
   "outputs": [],
   "source": [
    "root1.mainloop()"
   ]
  },
  {
   "cell_type": "code",
   "execution_count": null,
   "metadata": {},
   "outputs": [],
   "source": []
  },
  {
   "cell_type": "code",
   "execution_count": null,
   "metadata": {},
   "outputs": [],
   "source": []
  },
  {
   "cell_type": "code",
   "execution_count": null,
   "metadata": {},
   "outputs": [],
   "source": []
  },
  {
   "cell_type": "code",
   "execution_count": null,
   "metadata": {},
   "outputs": [],
   "source": []
  },
  {
   "cell_type": "code",
   "execution_count": null,
   "metadata": {},
   "outputs": [],
   "source": []
  }
 ],
 "metadata": {
  "kernelspec": {
   "display_name": "Python 3",
   "language": "python",
   "name": "python3"
  },
  "language_info": {
   "codemirror_mode": {
    "name": "ipython",
    "version": 3
   },
   "file_extension": ".py",
   "mimetype": "text/x-python",
   "name": "python",
   "nbconvert_exporter": "python",
   "pygments_lexer": "ipython3",
   "version": "3.8.8"
  }
 },
 "nbformat": 4,
 "nbformat_minor": 2
}
